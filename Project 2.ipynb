{
 "cells": [
  {
   "cell_type": "markdown",
   "id": "76170569",
   "metadata": {},
   "source": [
    "## Project 2 Machine Learing (Neural Network)"
   ]
  },
  {
   "cell_type": "code",
   "execution_count": 467,
   "id": "b2c592fe",
   "metadata": {},
   "outputs": [],
   "source": [
    "import numpy as np\n",
    "from sklearn.preprocessing import LabelEncoder\n",
    "from sklearn.preprocessing import OneHotEncoder\n",
    "from sklearn.preprocessing import StandardScaler\n",
    "from sklearn.preprocessing import Normalizer\n",
    "from sklearn.preprocessing import StandardScaler\n",
    "from sklearn.utils import shuffle\n",
    "from sklearn.model_selection import train_test_split\n",
    "from sklearn.metrics import confusion_matrix\n",
    "from sklearn.neural_network import MLPClassifier\n",
    "import matplotlib.pyplot as plt\n",
    "import seaborn as sns\n",
    "\n",
    "import keras\n",
    "from keras.models import Sequential\n",
    "from keras.layers import Dense\n",
    "from keras.optimizers import Adam\n",
    "from sklearn.preprocessing import LabelBinarizer\n",
    "\n",
    "import math\n",
    "from sklearn import datasets\n",
    "from keras.datasets import mnist\n",
    "\n",
    "from sklearn.metrics import accuracy_score"
   ]
  },
  {
   "cell_type": "markdown",
   "id": "f8b7a1d3",
   "metadata": {},
   "source": [
    "## Functions To Call"
   ]
  },
  {
   "cell_type": "code",
   "execution_count": 468,
   "id": "7500a928",
   "metadata": {},
   "outputs": [],
   "source": [
    "def forward(Oi, Wji):\n",
    "    net_h = np.dot(Oi, Wji)\n",
    "    Oj = 1 / (1 + np.exp(-net_h))  # Sigmoid activation function\n",
    "    return Oj \n",
    "\n",
    "def backward_out(eta,Oj, Oi,target):\n",
    "    target = np.array(target)\n",
    "    Oj = np.array(Oj)\n",
    "    Oi = np.array(Oi)\n",
    "    sgma_j = (target - Oj) * Oj * (1 - Oj) # Calculate the error signal at the output layer\n",
    "    delta_wj = eta * np.outer(sgma_j, Oi) # Calculate the weight update using the error signal and input values\n",
    "    return delta_wj.T,sgma_j\n",
    "\n",
    "def backward_hidden_layer(eta, Oj, Oi, sgmak, wkj):\n",
    "    sgma_j = np.dot(sgmak, wkj.T) * Oj * (1 - Oj)\n",
    "    delta_wj = eta * np.outer(sgma_j, Oi)\n",
    "    return delta_wj.T,sgma_j"
   ]
  },
  {
   "cell_type": "markdown",
   "id": "d1eb6f03",
   "metadata": {},
   "source": [
    "## Neural Network Implementation"
   ]
  },
  {
   "cell_type": "code",
   "execution_count": 469,
   "id": "2d07c16e",
   "metadata": {},
   "outputs": [],
   "source": [
    "def NN(x_train,y_train,x_test,eta=1,N_Max=10000,prec_err_enhc=0.01,accuracy=0.95,n=1):\n",
    "    \"\"\"\n",
    "    Neural Network Implementation\n",
    "    \n",
    "    Parameters:\n",
    "    - x_train: Training features (2D array-like)\n",
    "    - y_train: Training labels (1D array-like)\n",
    "    - x_test: Testing features (2D array-like)\n",
    "    - eta: Learning rate (default=1)\n",
    "    - N_Max: Maximum number of iterations (default=10000)\n",
    "    - prec_err_enhc: Precision error enhancement for stopping criteria (default=0.01)\n",
    "    - accuracy: Desired accuracy for stopping criteria (default=0.95)\n",
    "    - n: Number of hidden layers (1 or 2, default=1)\n",
    "    \n",
    "    Returns:\n",
    "    - y_pred: Predicted labels for the testing set (1D array)\n",
    "    \"\"\"\n",
    "    # Extracting dimensions and initializing weight matrices\n",
    "    N_features = len(x_train[0])\n",
    "    N_samples = len(x_train)\n",
    "    N_test_samples = len(x_test)\n",
    "    N_classes = len(np.unique(y_train))\n",
    "    N_neurons = 2*N_features\n",
    "\n",
    "    # Random initialization of weight matrices\n",
    "    w_s_to_1 = np.random.randn(N_features,N_neurons)\n",
    "    w_1_to_2 = np.random.randn(N_neurons, N_neurons)\n",
    "    w_2_to_e = np.random.randn(N_neurons,N_classes) \n",
    "    \n",
    "    #  on Hot encoding\n",
    "    label_encoder = LabelEncoder()\n",
    "    integer_encoded = label_encoder.fit_transform(y_train)\n",
    "    integer_encoded = integer_encoded.reshape(len(integer_encoded), 1)\n",
    "    onehot_encoder = OneHotEncoder(sparse=False,handle_unknown='ignore')\n",
    "    t = onehot_encoder.fit_transform(integer_encoded)\n",
    "    \n",
    "    for i in range(N_Max):\n",
    "        index =0\n",
    "        w_s_to_1_das = w_s_to_1\n",
    "        w_1_to_2_das = w_1_to_2\n",
    "        w_2_to_e_das = w_2_to_e\n",
    "        while index<N_samples:\n",
    "            if (n == 2):\n",
    "                #forward\n",
    "                O_1 = forward(x_train[index],w_s_to_1)\n",
    "                O_2 = forward(O_1,w_1_to_2)\n",
    "                O_3 = forward(O_2,w_2_to_e)\n",
    "                #backward_from_out\n",
    "                delta_w_3,sgma_3 = backward_out(eta,O_3, O_2,t[index])\n",
    "                w_2_to_e = w_2_to_e + delta_w_3\n",
    "                #backward_from_hidden_layer\n",
    "                delta_w_2,sgma_2 = backward_hidden_layer(eta, O_2, O_1, sgma_3, w_2_to_3)\n",
    "                w_1_to_2 = w_1_to_2 + delta_w_2\n",
    "                delta_w_1,sgma_1 = backward_hidden_layer(eta, O_1, x_train[index], sgma_2, w_1_to_2)\n",
    "                w_s_to_1 = w_s_to_1 + delta_w_1\n",
    "            elif (n==1):\n",
    "                O_1 = forward(x_train[index],w_s_to_1)\n",
    "                O_2 = forward(O_1,w_2_to_e)\n",
    "                #backward_from_out\n",
    "                delta_w_2,sgma_2 = backward_out(eta,O_2, O_1,t[index])\n",
    "                w_2_to_e = w_2_to_e + delta_w_2\n",
    "                #backward_from_hidden_layer\n",
    "                delta_w_1,sgma_1 = backward_hidden_layer(eta, O_1, x_train[index], sgma_2, w_2_to_e)\n",
    "                w_s_to_1 = w_s_to_1 + delta_w_1\n",
    "            index+=1\n",
    "        \n",
    "        #forward_to_print_and_calculate_the_acuuracy each step\n",
    "        y = np.zeros((N_samples,N_classes))\n",
    "        for j in range(N_samples):\n",
    "            if(n==2):\n",
    "                O_1 = forward(x_train[j],w_s_to_1)\n",
    "                O_2 = forward(O_1,w_1_to_2)\n",
    "                y[j] = forward(O_2,w_2_to_e)\n",
    "            elif (n == 1):\n",
    "                O_1 = forward(x_train[j],w_s_to_1)\n",
    "                y[j] = forward(O_1,w_2_to_e)             \n",
    "        y = np.concatenate(onehot_encoder.inverse_transform(y))\n",
    "        y = [np.random.choice(label_encoder.classes_) if k is None else k for k in y]\n",
    "        y_prd = label_encoder.inverse_transform(y)\n",
    "        Current_accuracy = accuracy_score(y_train, y_prd)\n",
    "        segma_w_changes = (abs(w_2_to_e-w_2_to_e_das)).sum() + (abs(w_1_to_2-w_1_to_2_das)).sum() + (abs(w_s_to_1-w_s_to_1_das)).sum()\n",
    "        Number_iternation= i\n",
    "#         print(f\"Iteration: {Number_iternation}/{N_Max} | Accuracy: {Current_accuracy*100:.6f} %| Weight Change: {segma_w_changes:.6f}\")\n",
    "\n",
    "        #Stoping critiries\n",
    "        if (Current_accuracy>accuracy or segma_w_changes<prec_err_enhc):\n",
    "            break\n",
    "    \n",
    "    y_result = np.zeros((N_test_samples, N_classes))\n",
    "    for j in range(N_test_samples):\n",
    "        if n == 2:\n",
    "            O_1 = forward(x_test[j], w_s_to_1)\n",
    "            O_2 = forward(O_1, w_1_to_2)\n",
    "            y_result[j] = forward(O_2, w_2_to_e)\n",
    "        elif n == 1:\n",
    "            O_1 = forward(x_test[j], w_s_to_1)\n",
    "            y_result[j] = forward(O_1, w_2_to_e)\n",
    "\n",
    "    y_result = np.concatenate(onehot_encoder.inverse_transform(y_result))\n",
    "    y_result = [np.random.choice(label_encoder.classes_) if k is None else k for k in y_result]\n",
    "    y_pred   = label_encoder.inverse_transform(y_result)\n",
    "    return y_pred"
   ]
  },
  {
   "cell_type": "markdown",
   "id": "c8ff4a1a",
   "metadata": {},
   "source": [
    "## NN Model Testing on IRIS Dataset "
   ]
  },
  {
   "cell_type": "code",
   "execution_count": 470,
   "id": "e9a4fada",
   "metadata": {},
   "outputs": [],
   "source": [
    "iris = datasets.load_iris()\n",
    "# Separate features (X) and target labels (y)\n",
    "X = iris.data\n",
    "y = iris.target\n",
    "X, y = shuffle(X, y, random_state=42) # Shuffle the data \n",
    "scaler = StandardScaler() # Initialize a StandardScaler to standardize the feature values\n",
    "X = scaler.fit_transform(X) # Fit the scaler to the features and transform them\n",
    "# Split the data into training and testing sets\n",
    "X_train_iris, X_test_iris, y_train_iris, y_test_iris = train_test_split(X, y, test_size=0.2, random_state=42)"
   ]
  },
  {
   "cell_type": "code",
   "execution_count": 471,
   "id": "42170d63",
   "metadata": {},
   "outputs": [
    {
     "name": "stderr",
     "output_type": "stream",
     "text": [
      "F:\\Anconda3\\Lib\\site-packages\\sklearn\\preprocessing\\_encoders.py:972: FutureWarning: `sparse` was renamed to `sparse_output` in version 1.2 and will be removed in 1.4. `sparse_output` is ignored unless you leave `sparse` to its default value.\n",
      "  warnings.warn(\n"
     ]
    },
    {
     "name": "stdout",
     "output_type": "stream",
     "text": [
      "The final_Acuarrcy of NN_Model:96.666667 %\n"
     ]
    }
   ],
   "source": [
    "y_pred_iris=NN(X_train_iris,y_train_iris,X_test_iris,eta = 1, N_Max = 1000, prec_err_enhc = 0.1, accuracy = 1, n = 2)\n",
    "print(f\"The final_Acuarrcy of NN_Model:{accuracy_score(y_test_iris, y_pred_iris)*100:.6f} %\")"
   ]
  },
  {
   "cell_type": "code",
   "execution_count": 472,
   "id": "1e7803c6",
   "metadata": {},
   "outputs": [
    {
     "data": {
      "image/png": "[encoded data removed]",
      "text/plain": [
       "<Figure size 500x500 with 1 Axes>"
      ]
     },
     "metadata": {},
     "output_type": "display_data"
    }
   ],
   "source": [
    "# confusion matrix\n",
    "iris_conf_matrix = confusion_matrix(y_test_iris, y_pred_iris)\n",
    "# Visualize the confusion matrix using Seaborn\n",
    "plt.figure(figsize=(5, 5))\n",
    "n=len(np.unique(y_pred_iris))\n",
    "sns.heatmap(iris_conf_matrix, annot=True, fmt='d', cmap='Blues', cbar=False,\n",
    "            xticklabels=np.arange(n), yticklabels=np.arange(n))\n",
    "plt.xlabel('Predicted Label')\n",
    "plt.ylabel('True Label')\n",
    "plt.title('IRIS Confusion Matrix')\n",
    "plt.show()"
   ]
  },
  {
   "cell_type": "markdown",
   "id": "483cb1d9",
   "metadata": {},
   "source": [
    "## Bouns: Compare the NN_Model with the Sklearn neural network"
   ]
  },
  {
   "cell_type": "code",
   "execution_count": 473,
   "id": "a23f41c8",
   "metadata": {},
   "outputs": [
    {
     "name": "stdout",
     "output_type": "stream",
     "text": [
      "The IRIS Accuracy of NN_Model:96.67 %\n",
      "The IRIS Accuracy of MLPClassifier :100.00 %\n"
     ]
    }
   ],
   "source": [
    "#Model\n",
    "print(f\"The IRIS Accuracy of NN_Model:{accuracy_score(y_test_iris, y_pred_iris)*100:.2f} %\")\n",
    "\n",
    "# MLPClassifier from scikit-learn on IRIS\n",
    "sklearn_iris = MLPClassifier(hidden_layer_sizes=(64, 32), max_iter=1000, random_state=42)\n",
    "sklearn_iris.fit(X_train_iris, y_train_iris)\n",
    "sklearn_pred_iris = sklearn_iris.predict(X_test_iris)\n",
    "print(f\"The IRIS Accuracy of MLPClassifier :{accuracy_score(y_test_iris, sklearn_pred_iris)*100:.2f} %\")"
   ]
  },
  {
   "cell_type": "markdown",
   "id": "ab84d459",
   "metadata": {},
   "source": [
    "## Bouns: Compare the NN_Model with the Keras Neural Network"
   ]
  },
  {
   "cell_type": "code",
   "execution_count": 474,
   "id": "8568a45c",
   "metadata": {},
   "outputs": [
    {
     "name": "stdout",
     "output_type": "stream",
     "text": [
      "The IRIS Accuracy of NN_Model:96.67 %\n",
      "The IRIS Accuracy of Keras Model: 100.00%\n"
     ]
    }
   ],
   "source": [
    "# NN_Model\n",
    "print(f\"The IRIS Accuracy of NN_Model:{accuracy_score(y_test_iris, y_pred_iris)*100:.2f} %\")\n",
    "\n",
    "# Keras Model\n",
    "keras_iris = Sequential()\n",
    "keras_iris.add(Dense(units=8, activation='sigmoid', input_dim=4))\n",
    "keras_iris.add(Dense(units=3, activation='softmax'))\n",
    "keras_iris.compile(optimizer=Adam(learning_rate=0.01), loss='categorical_crossentropy', metrics=['accuracy'])\n",
    "targets_train_iris = LabelBinarizer().fit_transform(y_train_iris)\n",
    "keras_iris.fit(X_train_iris, targets_train_iris, epochs=1000, batch_size=8, verbose=0)\n",
    "keras_accuracy_iris = keras_iris.evaluate(X_test_iris, LabelBinarizer().fit_transform(y_test_iris), verbose=0)[1]\n",
    "print(f\"The IRIS Accuracy of Keras Model: {keras_accuracy_iris * 100:.2f}%\")"
   ]
  },
  {
   "cell_type": "markdown",
   "id": "76ae31db",
   "metadata": {},
   "source": [
    "## NN Model Testing on MNIST Dataset "
   ]
  },
  {
   "cell_type": "code",
   "execution_count": 475,
   "id": "fc1f2fa3",
   "metadata": {},
   "outputs": [],
   "source": [
    "#Loading & spliting Data\n",
    "mnist = datasets.load_digits()\n",
    "# Separate features (X) and target labels (y)\n",
    "X = mnist.data\n",
    "y = mnist.target\n",
    "X, y = shuffle(X, y, random_state=42) # Shuffle the data \n",
    "scaler = StandardScaler() # Initialize a StandardScaler to standardize the feature values\n",
    "X = scaler.fit_transform(X) # Fit the scaler to the features and transform them\n",
    "# Split the data into training and testing sets\n",
    "X_train_minist, X_test_minist, y_train_minist, y_test_minist = train_test_split(X, y, test_size=0.2, random_state=42)"
   ]
  },
  {
   "cell_type": "code",
   "execution_count": 476,
   "id": "ff28bc7b",
   "metadata": {},
   "outputs": [
    {
     "name": "stderr",
     "output_type": "stream",
     "text": [
      "F:\\Anconda3\\Lib\\site-packages\\sklearn\\preprocessing\\_encoders.py:972: FutureWarning: `sparse` was renamed to `sparse_output` in version 1.2 and will be removed in 1.4. `sparse_output` is ignored unless you leave `sparse` to its default value.\n",
      "  warnings.warn(\n"
     ]
    },
    {
     "name": "stdout",
     "output_type": "stream",
     "text": [
      "The final_Acuarrcy of NN_Model:88.055556 %\n"
     ]
    }
   ],
   "source": [
    "# Model_test\n",
    "y_pred_minist=NN(X_train_minist,y_train_minist,X_test_minist,eta = 1, N_Max = 1000, prec_err_enhc = 0.1, accuracy = 0.98, n = 1)\n",
    "print(f\"The final_Acuarrcy of NN_Model:{accuracy_score(y_test_minist, y_pred_minist)*100:.6f} %\")"
   ]
  },
  {
   "cell_type": "code",
   "execution_count": 477,
   "id": "2f5a9c36",
   "metadata": {},
   "outputs": [
    {
     "data": {
      "image/png": "[encoded data removed]",
      "text/plain": [
       "<Figure size 500x500 with 1 Axes>"
      ]
     },
     "metadata": {},
     "output_type": "display_data"
    }
   ],
   "source": [
    "# confusion matrix\n",
    "minist_conf_matrix = confusion_matrix(y_test_minist, y_pred_minist)\n",
    "# Visualize the confusion matrix using Seaborn\n",
    "n=len(np.unique(y_pred_minist))\n",
    "plt.figure(figsize=(5, 5))\n",
    "sns.heatmap(minist_conf_matrix, annot=True, fmt='d', cmap='Blues', cbar=False,\n",
    "            xticklabels=np.arange(n+1), yticklabels=np.arange(n+1))\n",
    "plt.xlabel('Predicted Label')\n",
    "plt.ylabel('True Label')\n",
    "plt.title('MNIST Confusion Matrix')\n",
    "plt.show()"
   ]
  },
  {
   "cell_type": "markdown",
   "id": "c6fa055e",
   "metadata": {},
   "source": [
    "## Bouns: Compare the model with the Sklearn neural network"
   ]
  },
  {
   "cell_type": "code",
   "execution_count": 478,
   "id": "446dad59",
   "metadata": {},
   "outputs": [
    {
     "name": "stdout",
     "output_type": "stream",
     "text": [
      "The MINST Accuracy of NN_Model:88.06 %\n",
      "The MNIST Accuracy of MLPClassifier: 97.78%\n"
     ]
    }
   ],
   "source": [
    "print(f\"The MINST Accuracy of NN_Model:{accuracy_score(y_test_minist, y_pred_minist)*100:.2f} %\")\n",
    "# MLPClassifier from scikit-learn on MINST\n",
    "sklearn_minist = MLPClassifier(hidden_layer_sizes=(128, ), max_iter=1000, random_state=42)\n",
    "sklearn_minist.fit(X_train_minist, y_train_minist)\n",
    "sklearn_pred_minist = sklearn_minist.predict(X_test_minist)\n",
    "print(f\"The MNIST Accuracy of MLPClassifier: {accuracy_score(y_test_minist, sklearn_pred_minist) * 100:.2f}%\")"
   ]
  },
  {
   "cell_type": "markdown",
   "id": "0976d7f8",
   "metadata": {},
   "source": [
    "## Bouns: Compare the NN_Model with the Keras Neural Network"
   ]
  },
  {
   "cell_type": "code",
   "execution_count": 479,
   "id": "ca353bd6",
   "metadata": {
    "scrolled": true
   },
   "outputs": [
    {
     "name": "stdout",
     "output_type": "stream",
     "text": [
      "The MINST Accuracy of NN_Model:88.06 %\n",
      "The MNIST Accuracy of Keras Model: 96.67%\n"
     ]
    }
   ],
   "source": [
    "# NN_Model\n",
    "print(f\"The MINST Accuracy of NN_Model:{accuracy_score(y_test_minist, y_pred_minist)*100:.2f} %\")\n",
    "# Keras Model\n",
    "keras_minist = Sequential()\n",
    "keras_minist.add(Dense(units=128, activation='sigmoid', input_dim=64))  # Change input_dim to match the number of features\n",
    "keras_minist.add(Dense(units=10, activation='softmax'))\n",
    "keras_minist.compile(optimizer=Adam(learning_rate=0.01), loss='categorical_crossentropy', metrics=['accuracy'])\n",
    "\n",
    "if len(y_train_minist) != 10:\n",
    "    y_train_minist_categorical = to_categorical(y_train_minist, num_classes=10)\n",
    "    y_test_minist_categorical = to_categorical(y_test_minist, num_classes=10)\n",
    "else:\n",
    "    y_train_minist_categorical = y_train_minist\n",
    "    y_test_minist_categorical = y_test_minist\n",
    "\n",
    "keras_minist.fit(X_train_minist, y_train_minist_categorical, epochs=5, batch_size=32, verbose=0)\n",
    "keras_accuracy_minist = keras_minist.evaluate(X_test_minist, LabelBinarizer().fit_transform(y_test_minist_categorical), verbose=0)[1]\n",
    "print(f\"The MNIST Accuracy of Keras Model: {keras_accuracy_minist * 100:.2f}%\")"
   ]
  }
 ],
 "metadata": {
  "kernelspec": {
   "display_name": "Python 3 (ipykernel)",
   "language": "python",
   "name": "python3"
  },
  "language_info": {
   "codemirror_mode": {
    "name": "ipython",
    "version": 3
   },
   "file_extension": ".py",
   "mimetype": "text/x-python",
   "name": "python",
   "nbconvert_exporter": "python",
   "pygments_lexer": "ipython3",
   "version": "3.11.5"
  }
 },
 "nbformat": 4,
 "nbformat_minor": 5
}
